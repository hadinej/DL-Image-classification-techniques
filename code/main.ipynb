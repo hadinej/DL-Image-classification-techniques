{
 "cells": [
  {
   "cell_type": "markdown",
   "metadata": {
    "colab_type": "text",
    "id": "fo942LMOdlh4"
   },
   "source": [
    "**Import libraries**"
   ]
  },
  {
   "cell_type": "code",
   "execution_count": 1,
   "metadata": {
    "colab": {},
    "colab_type": "code",
    "id": "DokFOdD1dJEl"
   },
   "outputs": [],
   "source": [
    "import os\n",
    "import logging\n",
    "\n",
    "import torch\n",
    "import torch.nn as nn\n",
    "import torch.optim as optim\n",
    "from torch.utils.data import Subset, DataLoader\n",
    "from torch.backends import cudnn\n",
    "\n",
    "import torch.cuda\n",
    "\n",
    "import torchvision\n",
    "from torchvision import transforms\n",
    "from torchvision.models import alexnet\n",
    "\n",
    "from PIL import Image\n",
    "from tqdm import tqdm\n",
    "\n",
    "import pandas as pd\n",
    "\n",
    "from matplotlib import pyplot as plt\n",
    "%matplotlib inline\n",
    "\n",
    "import pretrainedmodels\n",
    "import pickle"
   ]
  },
  {
   "cell_type": "markdown",
   "metadata": {
    "colab_type": "text",
    "id": "OIDLJuIXK_vh"
   },
   "source": [
    "**Set Arguments**"
   ]
  },
  {
   "cell_type": "code",
   "execution_count": 2,
   "metadata": {
    "colab": {},
    "colab_type": "code",
    "id": "d5PkYfqfK_SA"
   },
   "outputs": [],
   "source": [
    "DEVICE = 'cuda' # 'cuda' or 'cpu'\n",
    "    \n",
    "DATA_DIR = ''        # directory of dataset\n",
    "\n",
    "NUM_CLASSES = 101    # 101 + 1: There is am extra Background class that should be removed\n",
    "\n",
    "BATCH_SIZE = 256     # Higher batch sizes allows for larger learning rates. An empirical heuristic suggests that, when changing\n",
    "                     # the batch size, learning rate should change by the same factor to have comparable results\n",
    "    \n",
    "SPLIT_SIZE = 0.2\n",
    "\n",
    "LR = 1e-2            # The initial Learning Rate\n",
    "\n",
    "MOMENTUM = 0.9       # Hyperparameter for SGD, keep this at 0.9 when using SGD\n",
    "WEIGHT_DECAY = 5e-5  # Regularization, you can keep this at the default\n",
    "\n",
    "NUM_EPOCHS = 20      # Total number of training epochs (iterations over dataset)\n",
    "STEP_SIZE = 10       # How many epochs before decreasing learning rate (if using a step-down policy)\n",
    "GAMMA = 0.1          # Multiplicative factor for learning rate step-down\n",
    "\n",
    "LOG_FREQUENCY = 10\n"
   ]
  },
  {
   "cell_type": "markdown",
   "metadata": {
    "colab_type": "text",
    "id": "9gwii0TBHvzh"
   },
   "source": [
    "**Define Data Preprocessing**"
   ]
  },
  {
   "cell_type": "code",
   "execution_count": 3,
   "metadata": {
    "colab": {},
    "colab_type": "code",
    "id": "QUDdw4j2H0Mc"
   },
   "outputs": [],
   "source": [
    "# Define transforms for training phase\n",
    "    \n",
    "# Define transforms for training phase    \n",
    "train_transform = transforms.Compose([transforms.ToPILImage(),\n",
    "                                      transforms.ColorJitter(),\n",
    "                                      transforms.RandomHorizontalFlip(),\n",
    "                                      transforms.Resize(256),      \n",
    "                                      transforms.CenterCrop(224),                        \n",
    "                                      transforms.ToTensor(),    \n",
    "                                      transforms.Normalize(mean=[0.485, 0.456, 0.406], std=[0.229, 0.224, 0.225])]) # Normalizes tensor with mean and standard deviation of ImageNet\n",
    "# Define transforms for the evaluation phase\n",
    "eval_transform = transforms.Compose([transforms.ToPILImage(),\n",
    "                                     transforms.Resize(256),\n",
    "                                      transforms.CenterCrop(224),\n",
    "                                      transforms.ToTensor(),\n",
    "                                      transforms.Normalize(mean=[0.485, 0.456, 0.406], std=[0.229, 0.224, 0.225])])             "
   ]
  },
  {
   "cell_type": "markdown",
   "metadata": {
    "colab_type": "text",
    "id": "2qYIHPzYLY7i"
   },
   "source": [
    "**Prepare Dataset**"
   ]
  },
  {
   "cell_type": "code",
   "execution_count": 4,
   "metadata": {
    "colab": {
     "base_uri": "https://localhost:8080/",
     "height": 663
    },
    "colab_type": "code",
    "executionInfo": {
     "elapsed": 1345,
     "status": "ok",
     "timestamp": 1591274175648,
     "user": {
      "displayName": "Hadi Nejabat",
      "photoUrl": "https://lh3.googleusercontent.com/a-/AOh14GjXoxfKJjGJ2z3zTQeUHv_NYsZKANj5in4xHE1hzA=s64",
      "userId": "00428722061237956804"
     },
     "user_tz": -120
    },
    "id": "QfVq_uDHLbsR",
    "outputId": "00c5474c-1fed-4b7f-b43e-9bf4c0b8ec95"
   },
   "outputs": [
    {
     "name": "stdout",
     "output_type": "stream",
     "text": [
      "Total number of classes: 101\n",
      "Total number of classes: 101\n",
      "Total number of classes: 101\n",
      "Train Dataset: 4627\n",
      "Validation Dataset: 1157\n",
      "Test Dataset: 5784\n"
     ]
    }
   ],
   "source": [
    "# Prepare Pytorch train/test Datasets\n",
    "# in this case I'm reading from the same root as my data Images\n",
    "from caltech_dataset import Caltech\n",
    "\n",
    "# Creating Custom Dataset and DataLoaders\n",
    "train_dataset = Caltech(DATA_DIR, split='train',split_size=SPLIT_SIZE, transform=train_transform)\n",
    "val_dataset = Caltech(DATA_DIR, split='validation',split_size=SPLIT_SIZE, transform=eval_transform)\n",
    "test_dataset = Caltech(DATA_DIR, split='test', transform=eval_transform)\n",
    "\n",
    "# Check dataset sizes\n",
    "print('Train Dataset: {}'.format(len(train_dataset)))\n",
    "print('Validation Dataset: {}'.format(len(val_dataset)))\n",
    "print('Test Dataset: {}'.format(len(test_dataset)))"
   ]
  },
  {
   "cell_type": "markdown",
   "metadata": {
    "colab": {},
    "colab_type": "code",
    "id": "Xx7DbB7lgDtT"
   },
   "source": [
    "<!-- # xx=Caltech(DATA_DIR, split='train')\n",
    "# xx.__getitem__(36) -->"
   ]
  },
  {
   "cell_type": "markdown",
   "metadata": {
    "colab_type": "text",
    "id": "FYEDQ7Z21ldN"
   },
   "source": [
    "**Prepare Dataloaders**"
   ]
  },
  {
   "cell_type": "code",
   "execution_count": 5,
   "metadata": {
    "colab": {},
    "colab_type": "code",
    "id": "VriRw8SI1nle"
   },
   "outputs": [],
   "source": [
    "# Dataloaders iterate over pytorch datasets and transparently provide useful functions (e.g. parallelization and shuffling)\n",
    "train_dataloader = DataLoader(train_dataset, batch_size=BATCH_SIZE, drop_last=True)\n",
    "val_dataloader = DataLoader(val_dataset, batch_size=BATCH_SIZE, drop_last=True)\n",
    "test_dataloader = DataLoader(test_dataset, batch_size=BATCH_SIZE)"
   ]
  },
  {
   "cell_type": "code",
   "execution_count": 6,
   "metadata": {},
   "outputs": [],
   "source": [
    "#Accessing Data in the training set and checking Data loader Class\n",
    "\n",
    "# batch=next(iter(val_dataloader))\n",
    "# # print(batch.shape)\n",
    "# img, label = batch\n",
    "# plt.imshow(img[255].squeeze().permute(1, 2, 0))\n",
    "# a= Caltech(DATA_DIR, split='train', transform=train_transform)\n",
    "# a.dict_keys_arr[label[255].squeeze()]"
   ]
  },
  {
   "cell_type": "markdown",
   "metadata": {
    "colab_type": "text",
    "id": "gbZ1t5Qs2z4j"
   },
   "source": [
    "**Prepare Network (for training with AlexNet)**"
   ]
  },
  {
   "cell_type": "code",
   "execution_count": 7,
   "metadata": {
    "colab": {},
    "colab_type": "code",
    "id": "exHUjtXa22DN"
   },
   "outputs": [],
   "source": [
    "# Loading AlexNet model\n",
    "# AlexNet has 1000 output neurons, corresponding to the 1000 ImageNet's classes\n",
    "# We need 101 outputs for Caltech-101\n",
    "# nn.Linear in pytorch is a fully connected layer\n",
    "                                                     # The convolutional layer is nn.Conv2d\n",
    "net = alexnet(pretrained=True) \n",
    "    #pretrained (bool) – If True, returns a model pre-trained on ImageNet\n",
    "    \n",
    "    \n",
    "#     for param in net.parameters():\n",
    "#         param.requires_grad = False\n",
    "        \n",
    "net.classifier[6] = nn.Linear(4096, NUM_CLASSES)\n",
    "#     net.classifier[6].requires_grad = True"
   ]
  },
  {
   "cell_type": "markdown",
   "metadata": {
    "colab_type": "text",
    "id": "gbZ1t5Qs2z4j"
   },
   "source": [
    "**Prepare Network (going beyond alexnet and training on ResNet34)**"
   ]
  },
  {
   "cell_type": "code",
   "execution_count": 8,
   "metadata": {},
   "outputs": [],
   "source": [
    "# #going beyond alexnet and training on ResNet34 which its weights are pretrained on ImageNet\n",
    "# net = resnet34(pretrained=True)\n",
    "# net.l0 = nn.Linear(512, NUM_CLASSES)\n",
    "# net.dropout = nn.Dropout2d(0.4)"
   ]
  },
  {
   "cell_type": "markdown",
   "metadata": {
    "colab_type": "text",
    "id": "KEyL3H_R4qCf"
   },
   "source": [
    "**Prepare Training**"
   ]
  },
  {
   "cell_type": "code",
   "execution_count": 9,
   "metadata": {
    "colab": {},
    "colab_type": "code",
    "id": "9sjq00G94tSc"
   },
   "outputs": [],
   "source": [
    "# Define loss function\n",
    "criterion = nn.CrossEntropyLoss() # for classification, we use Cross Entropy\n",
    "\n",
    "# Choose parameters to optimize\n",
    "# To access a different set of parameters, you have to access submodules of AlexNet\n",
    "# (nn.Module objects, like AlexNet, implement the Composite Pattern)\n",
    "# e.g.: parameters of the fully connected layers: net.classifier.parameters()\n",
    "# e.g.: parameters of the convolutional layers: look at alexnet's source code ;) \n",
    "parameters_to_optimize = net.parameters() # In this case we optimize over all the parameters of AlexNet\n",
    "\n",
    "# Define optimizer\n",
    "# An optimizer updates the weights based on loss\n",
    "# We use SGD with momentum\n",
    "optimizer = optim.SGD(parameters_to_optimize, lr=LR, momentum=MOMENTUM, weight_decay=WEIGHT_DECAY)\n",
    "\n",
    "# Define scheduler\n",
    "# A scheduler dynamically changes learning rate\n",
    "# The most common schedule is the step(-down), which multiplies learning rate by gamma every STEP_SIZE epochs\n",
    "scheduler = optim.lr_scheduler.StepLR(optimizer, step_size=STEP_SIZE, gamma=GAMMA)\n"
   ]
  },
  {
   "cell_type": "code",
   "execution_count": 10,
   "metadata": {},
   "outputs": [
    {
     "name": "stdout",
     "output_type": "stream",
     "text": [
      "Using device: cuda\n",
      "\n",
      "GeForce RTX 2070 SUPER\n",
      "Memory Usage:\n",
      "Allocated: 0.0 GB\n",
      "Cached:    0.0 GB\n"
     ]
    }
   ],
   "source": [
    "# setting device on GPU if available, else CPU\n",
    "device = torch.device('cuda' if torch.cuda.is_available() else 'cpu')\n",
    "print('Using device:', device)\n",
    "print()\n",
    "\n",
    "#Additional Info when using cuda\n",
    "if device.type == 'cuda':\n",
    "    print(torch.cuda.get_device_name(0))\n",
    "    print('Memory Usage:')\n",
    "    print('Allocated:', round(torch.cuda.memory_allocated(0)/1024**3,1), 'GB')\n",
    "    print('Cached:   ', round(torch.cuda.memory_cached(0)/1024**3,1), 'GB')"
   ]
  },
  {
   "cell_type": "markdown",
   "metadata": {
    "colab_type": "text",
    "id": "AxYUli9d9uYQ"
   },
   "source": [
    "**Train & Validation**"
   ]
  },
  {
   "cell_type": "code",
   "execution_count": 11,
   "metadata": {
    "colab": {
     "base_uri": "https://localhost:8080/",
     "height": 1000
    },
    "colab_type": "code",
    "executionInfo": {
     "elapsed": 303714,
     "status": "ok",
     "timestamp": 1591273823807,
     "user": {
      "displayName": "Hadi Nejabat",
      "photoUrl": "https://lh3.googleusercontent.com/a-/AOh14GjXoxfKJjGJ2z3zTQeUHv_NYsZKANj5in4xHE1hzA=s64",
      "userId": "00428722061237956804"
     },
     "user_tz": -120
    },
    "id": "ZcoQ5fD49yT_",
    "outputId": "863caf98-269d-4bbc-f7df-b41fb2cdc3ee"
   },
   "outputs": [
    {
     "name": "stdout",
     "output_type": "stream",
     "text": [
      "Starting epoch 1/20, LR = [0.01]\n",
      "Train Loss: 0.0094, Train Acc: 46.08\n",
      "  Val Loss: 0.0008,  Val Acc: 65.86\n",
      "Starting epoch 2/20, LR = [0.01]\n",
      "Train Loss: 0.0023, Train Acc: 82.82\n",
      "  Val Loss: 0.0006,  Val Acc: 71.13\n",
      "Starting epoch 3/20, LR = [0.01]\n",
      "Train Loss: 0.0013, Train Acc: 90.02\n",
      "  Val Loss: 0.0005,  Val Acc: 73.98\n",
      "Starting epoch 4/20, LR = [0.01]\n",
      "Train Loss: 0.0009, Train Acc: 92.82\n",
      "  Val Loss: 0.0006,  Val Acc: 73.03\n",
      "Starting epoch 5/20, LR = [0.01]\n",
      "Train Loss: 0.0006, Train Acc: 94.47\n",
      "  Val Loss: 0.0006,  Val Acc: 74.42\n",
      "Starting epoch 6/20, LR = [0.01]\n",
      "Train Loss: 0.0004, Train Acc: 96.41\n",
      "  Val Loss: 0.0006,  Val Acc: 73.73\n",
      "Starting epoch 7/20, LR = [0.01]\n",
      "Train Loss: 0.0003, Train Acc: 97.23\n",
      "  Val Loss: 0.0005,  Val Acc: 75.02\n",
      "Starting epoch 8/20, LR = [0.01]\n",
      "Train Loss: 0.0003, Train Acc: 97.54\n",
      "  Val Loss: 0.0006,  Val Acc: 75.45\n",
      "Starting epoch 9/20, LR = [0.01]\n",
      "Train Loss: 0.0003, Train Acc: 97.49\n",
      "  Val Loss: 0.0005,  Val Acc: 74.33\n",
      "Starting epoch 10/20, LR = [0.01]\n",
      "Train Loss: 0.0002, Train Acc: 97.93\n",
      "  Val Loss: 0.0006,  Val Acc: 74.94\n",
      "Starting epoch 11/20, LR = [0.01]\n",
      "Train Loss: 0.0002, Train Acc: 97.86\n",
      "  Val Loss: 0.0006,  Val Acc: 75.54\n",
      "Starting epoch 12/20, LR = [0.01]\n",
      "Train Loss: 0.0001, Train Acc: 98.72\n",
      "  Val Loss: 0.0006,  Val Acc: 76.23\n",
      "Starting epoch 13/20, LR = [0.01]\n",
      "Train Loss: 0.0001, Train Acc: 98.70\n",
      "  Val Loss: 0.0005,  Val Acc: 75.89\n",
      "Starting epoch 14/20, LR = [0.01]\n",
      "Train Loss: 0.0001, Train Acc: 98.70\n",
      "  Val Loss: 0.0006,  Val Acc: 75.02\n",
      "Starting epoch 15/20, LR = [0.01]\n",
      "Train Loss: 0.0001, Train Acc: 98.98\n",
      "  Val Loss: 0.0006,  Val Acc: 75.54\n",
      "Starting epoch 16/20, LR = [0.01]\n",
      "Train Loss: 0.0001, Train Acc: 99.01\n",
      "  Val Loss: 0.0006,  Val Acc: 75.71\n",
      "Starting epoch 17/20, LR = [0.01]\n",
      "Train Loss: 0.0001, Train Acc: 98.70\n",
      "  Val Loss: 0.0006,  Val Acc: 74.50\n",
      "Starting epoch 18/20, LR = [0.01]\n",
      "Train Loss: 0.0001, Train Acc: 98.42\n",
      "  Val Loss: 0.0006,  Val Acc: 74.76\n",
      "Starting epoch 19/20, LR = [0.01]\n",
      "Train Loss: 0.0001, Train Acc: 98.72\n",
      "  Val Loss: 0.0006,  Val Acc: 74.50\n",
      "Starting epoch 20/20, LR = [0.01]\n",
      "Train Loss: 0.0001, Train Acc: 98.98\n",
      "  Val Loss: 0.0005,  Val Acc: 76.58\n"
     ]
    }
   ],
   "source": [
    "# By default, everything is loaded to cpu\n",
    "net = net.to(DEVICE) # this will bring the network to GPU if DEVICE is cuda\n",
    "cudnn.benchmark # Calling this optimizes runtime\n",
    "\n",
    "current_step = 0\n",
    "all_train_loss, all_train_acc =[], []\n",
    "all_val_loss, all_val_acc =[], []\n",
    "\n",
    "# Start iterating over the epochs\n",
    "for epoch in range(NUM_EPOCHS):\n",
    "    \n",
    "    net.train() # Sets module in training mode\n",
    "    running_loss = 0.0\n",
    "    running_correct = 0\n",
    "    print('Starting epoch {}/{}, LR = {}'.format(epoch+1, NUM_EPOCHS, scheduler.get_last_lr()))\n",
    "\n",
    "    # Iterate over the dataset\n",
    "    for images, labels in train_dataloader:\n",
    "    # Bring data over the device of choice\n",
    "        images = images.to(DEVICE)\n",
    "        labels = labels.to(DEVICE)\n",
    "        \n",
    "        optimizer.zero_grad() # Zero-ing the gradients        \n",
    "        \n",
    "        # Forward pass to the network\n",
    "        outputs = net(images)\n",
    "        # Compute loss based on output and ground truth\n",
    "        loss = criterion(outputs, torch.max(labels, 1)[1])\n",
    "        \n",
    "        #computation of total training loss in each epoch\n",
    "        running_loss += loss.item()\n",
    "        _, preds = torch.max(outputs.data, 1)\n",
    "        running_correct += (preds == torch.max(labels, 1)[1]).sum().item()\n",
    "        \n",
    "        \n",
    "        # Compute gradients for each layer and update weights\n",
    "        loss.backward()  # backward pass: computes gradients\n",
    "        optimizer.step() # update weights based on accumulated gradients\n",
    "    \n",
    "\n",
    "    train_loss = running_loss/len(train_dataloader.dataset)\n",
    "    train_accuracy = 100. * running_correct/len(train_dataloader.dataset)      \n",
    "    print(f\"Train Loss: {train_loss:.4f}, Train Acc: {train_accuracy:.2f}\")\n",
    "    all_train_loss.append(train_loss)\n",
    "    all_train_acc.append(train_accuracy)\n",
    "\n",
    "\n",
    "    net.eval() # Set Network to evaluation mode\n",
    "    running_loss = 0.0\n",
    "    running_correct = 0\n",
    "    with torch.no_grad():\n",
    "        for images, labels in val_dataloader:\n",
    "        # Bring data over the device of choice\n",
    "            images = images.to(DEVICE)\n",
    "            labels = labels.to(DEVICE)\n",
    "\n",
    "            # Forward pass to the network\n",
    "            outputs = net(images)\n",
    "            # Compute loss based on output and ground truth\n",
    "            loss = criterion(outputs, torch.max(labels, 1)[1])\n",
    "\n",
    "            #computation of total training loss in each epoch\n",
    "            running_loss += loss.item()\n",
    "            _, preds = torch.max(outputs.data, 1)\n",
    "            running_correct += (preds == torch.max(labels, 1)[1]).sum().item()\n",
    "\n",
    "        val_loss = running_loss/len(train_dataloader.dataset)\n",
    "        val_accuracy = 100. * running_correct/len(val_dataloader.dataset)      \n",
    "        print(f\"  Val Loss: {val_loss:.4f},  Val Acc: {val_accuracy:.2f}\") \n",
    "        all_val_loss.append(val_loss)\n",
    "        all_val_acc.append(val_accuracy)\n",
    "    \n",
    "        \n",
    "# Step the scheduler\n",
    "scheduler.step() "
   ]
  },
  {
   "cell_type": "markdown",
   "metadata": {
    "colab_type": "text",
    "id": "UsHFI-GAJd69"
   },
   "source": [
    "**Saving & Plotting Results**"
   ]
  },
  {
   "cell_type": "code",
   "execution_count": 12,
   "metadata": {
    "colab": {
     "base_uri": "https://localhost:8080/",
     "height": 51
    },
    "colab_type": "code",
    "executionInfo": {
     "elapsed": 10229,
     "status": "ok",
     "timestamp": 1591274192647,
     "user": {
      "displayName": "Hadi Nejabat",
      "photoUrl": "https://lh3.googleusercontent.com/a-/AOh14GjXoxfKJjGJ2z3zTQeUHv_NYsZKANj5in4xHE1hzA=s64",
      "userId": "00428722061237956804"
     },
     "user_tz": -120
    },
    "id": "EO3HV5pqJg1o",
    "outputId": "8fe016b1-fddc-4ba3-c093-e0409f908a7e"
   },
   "outputs": [
    {
     "data": {
      "image/png": "[encoded data removed]",
      "text/plain": [
       "<Figure size 720x504 with 1 Axes>"
      ]
     },
     "metadata": {
      "needs_background": "light"
     },
     "output_type": "display_data"
    },
    {
     "data": {
      "image/png": "[encoded data removed]",
      "text/plain": [
       "<Figure size 720x504 with 1 Axes>"
      ]
     },
     "metadata": {
      "needs_background": "light"
     },
     "output_type": "display_data"
    }
   ],
   "source": [
    "# accuracy plots\n",
    "plt.figure(figsize=(10, 7))\n",
    "plt.plot(all_train_acc, color='green', label='train accuracy')\n",
    "plt.plot(all_val_acc, color='blue', label='validataion accuracy')\n",
    "plt.xlabel('Epochs')\n",
    "plt.ylabel('Accuracy')\n",
    "plt.legend()\n",
    "plt.savefig('accuracy.png')\n",
    " \n",
    "# loss plots\n",
    "plt.figure(figsize=(10, 7))\n",
    "plt.plot(all_train_loss, color='green', label='train loss')\n",
    "plt.plot(all_val_loss, color='blue', label='validataion loss')\n",
    "plt.xlabel('Epochs')\n",
    "plt.ylabel('Loss')\n",
    "plt.legend()\n",
    "plt.savefig('loss.png')"
   ]
  },
  {
   "cell_type": "markdown",
   "metadata": {
    "colab_type": "text",
    "id": "jxekmR745ySe"
   },
   "source": [
    "**Test**"
   ]
  },
  {
   "cell_type": "code",
   "execution_count": 13,
   "metadata": {},
   "outputs": [
    {
     "name": "stderr",
     "output_type": "stream",
     "text": [
      "100%|██████████| 23/23 [00:10<00:00,  2.25it/s]"
     ]
    },
    {
     "name": "stdout",
     "output_type": "stream",
     "text": [
      "Accuracy of the network on test images: 97.1 %\n"
     ]
    },
    {
     "name": "stderr",
     "output_type": "stream",
     "text": [
      "\n"
     ]
    }
   ],
   "source": [
    "#Test\n",
    "net = net.to(DEVICE) # this will bring the network to GPU if DEVICE is cuda\n",
    "net.train(False) # Set Network to evaluation mode\n",
    "\n",
    "correct = 0\n",
    "total = 0\n",
    "\n",
    "with torch.no_grad():\n",
    "    for images, labels in tqdm(test_dataloader):\n",
    "        images = images.to(DEVICE)\n",
    "        labels = labels.to(DEVICE)\n",
    "\n",
    "        # Forward Pass\n",
    "        outputs = net(images)\n",
    "\n",
    "        _, predicted = torch.max(outputs.data, 1)\n",
    "        total += labels.size(0)\n",
    "        correct += (predicted == torch.max(labels, 1)[1]).sum().item()\n",
    "\n",
    "print('Accuracy of the network on test images: %0.1f %%' % (100 * correct / total))"
   ]
  },
  {
   "cell_type": "code",
   "execution_count": null,
   "metadata": {},
   "outputs": [],
   "source": []
  }
 ],
 "metadata": {
  "accelerator": "GPU",
  "colab": {
   "collapsed_sections": [],
   "name": "Homework2_S246601.ipynb",
   "provenance": [
    {
     "file_id": "1495rzqiMxfqwqBjaanDwDGN7eOS4oXRX",
     "timestamp": 1588150416848
    },
    {
     "file_id": "1PhNPpklp9FbxJEtsZ8Jp9qXQa4aZDK5Y",
     "timestamp": 1586854223220
    }
   ]
  },
  "kernelspec": {
   "display_name": "Python 3",
   "language": "python",
   "name": "python3"
  },
  "language_info": {
   "codemirror_mode": {
    "name": "ipython",
    "version": 3
   },
   "file_extension": ".py",
   "mimetype": "text/x-python",
   "name": "python",
   "nbconvert_exporter": "python",
   "pygments_lexer": "ipython3",
   "version": "3.7.6"
  }
 },
 "nbformat": 4,
 "nbformat_minor": 4
}
